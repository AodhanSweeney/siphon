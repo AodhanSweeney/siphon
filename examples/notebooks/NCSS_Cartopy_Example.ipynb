{
 "cells": [
  {
   "cell_type": "markdown",
   "metadata": {},
   "source": [
    "## Using Siphon to query the NetCDF Subset Service and plotting it to a map\n",
    "##### This example uses Siphon's NCSS class to provide temperature data for contouring a basic map using Cartopy"
   ]
  },
  {
   "cell_type": "markdown",
   "metadata": {},
   "source": [
    "First we construct a TDSCatalog instance pointing to our dataset of interest, in\n",
    "this case TDS' \"Best\" virtual dataset for the GFS global 0.25 degree collection of\n",
    "GRIB files. This will give us a good resolution for our map. This catalog contains a single dataset."
   ]
  },
  {
   "cell_type": "code",
   "execution_count": null,
   "metadata": {
    "collapsed": false
   },
   "outputs": [],
   "source": [
    "from siphon.catalog import TDSCatalog\n",
    "best_gfs = TDSCatalog('http://thredds-jumbo.unidata.ucar.edu/thredds/catalog/grib/NCEP/GFS/Global_0p25deg/catalog.xml?dataset=grib/NCEP/GFS/Global_0p25deg/Best')\n",
    "best_gfs.datasets"
   ]
  },
  {
   "cell_type": "markdown",
   "metadata": {},
   "source": [
    "We pull out this dataset and look at the access urls."
   ]
  },
  {
   "cell_type": "code",
   "execution_count": null,
   "metadata": {
    "collapsed": false
   },
   "outputs": [],
   "source": [
    "best_ds = list(best_gfs.datasets.values())[0]\n",
    "best_ds.access_urls"
   ]
  },
  {
   "cell_type": "markdown",
   "metadata": {},
   "source": [
    "Note the `NetcdfSubset` entry, which we will use with our NCSS class."
   ]
  },
  {
   "cell_type": "code",
   "execution_count": null,
   "metadata": {
    "collapsed": false
   },
   "outputs": [],
   "source": [
    "from siphon.ncss import NCSS\n",
    "ncss = NCSS(best_ds.access_urls['NetcdfSubset'])"
   ]
  },
  {
   "cell_type": "markdown",
   "metadata": {},
   "source": [
    "We can then use the `ncss` object to create a new query object, which\n",
    "facilitates asking for data from the server."
   ]
  },
  {
   "cell_type": "code",
   "execution_count": null,
   "metadata": {
    "collapsed": true
   },
   "outputs": [],
   "source": [
    "query = ncss.query()"
   ]
  },
  {
   "cell_type": "markdown",
   "metadata": {},
   "source": [
    "We construct a query asking for data corresponding to a latitude and longitude box where 43 lat is the northern extent, 35 lat is the southern extent, 260 long is the western extent and 249 is the eastern extent. Note that longitude values are the longitude distance from the prime meridian. We request the data for the current time.\n",
    "We also ask for NetCDF version 4 data, for the variable 'temperature_surface'. This request will return all surface temperatures for points in our bounding box for a single time. Note the string representation of the query is a properly encoded query string."
   ]
  },
  {
   "cell_type": "code",
   "execution_count": null,
   "metadata": {
    "collapsed": false
   },
   "outputs": [],
   "source": [
    "from datetime import datetime\n",
    "query.lonlat_box(43, 35, 260, 249).time(datetime.utcnow())\n",
    "query.accept('netcdf4')\n",
    "query.variables('Temperature_surface')"
   ]
  },
  {
   "cell_type": "markdown",
   "metadata": {},
   "source": [
    "We now request data from the server using this query. The `NCSS` class handles parsing this NetCDF data (using the `netCDF4` module). If we print out the variable names, we see our requested variables, as well as a few others (more metadata information)"
   ]
  },
  {
   "cell_type": "code",
   "execution_count": null,
   "metadata": {
    "collapsed": false
   },
   "outputs": [],
   "source": [
    "data = ncss.get_data(query)\n",
    "list(data.variables.keys())"
   ]
  },
  {
   "cell_type": "markdown",
   "metadata": {},
   "source": [
    "We'll pull out the useful variables for temperature, latitude, and longitude, and time (which is the time, in hours since the forecast run). "
   ]
  },
  {
   "cell_type": "code",
   "execution_count": null,
   "metadata": {
    "collapsed": false
   },
   "outputs": [],
   "source": [
    "temp_3d = data.variables['Temperature_surface']\n",
    "time_1d = data.variables['time']\n",
    "lat_1d = data.variables['lat']\n",
    "lon_1d = data.variables['lon']"
   ]
  },
  {
   "cell_type": "markdown",
   "metadata": {},
   "source": [
    "Now we make our data suitable for plotting."
   ]
  },
  {
   "cell_type": "code",
   "execution_count": null,
   "metadata": {
    "collapsed": false
   },
   "outputs": [],
   "source": [
    "import numpy as np\n",
    "from netCDF4 import num2date\n",
    "\n",
    "# Reduce the dimensions of the data\n",
    "temp_2d = temp_3d[:].squeeze()\n",
    "lat_1d = lat_1d[:].squeeze()\n",
    "lon_1d = lon_1d[:].squeeze()\n",
    "\n",
    "# Convert the number of hours since the reference time to an actual date\n",
    "time_val = num2date(time_1d[:].squeeze(), time_1d.units)\n",
    "\n",
    "# Convert temps to Fahrenheit from Kelvin\n",
    "temp_2d = (temp_2d *(9.0/5.0)) - 459.67\n",
    "\n",
    "# Combine latitude and longitudes \n",
    "lon_2d, lat_2d = np.meshgrid(lon_1d, lat_1d)\n",
    "\n",
    "# Flatten() combines all the lists from meshgrid into one list\n",
    "full_lat_1d = lat_2d.flatten()\n",
    "full_lon_1d = lon_2d.flatten()\n",
    "\n",
    "# Create one list that pairs longs and lats\n",
    "lonlat_list = zip(full_lon_1d, full_lat_1d)\n"
   ]
  },
  {
   "cell_type": "markdown",
   "metadata": {},
   "source": [
    "Now we can plot these up using matplotlib."
   ]
  },
  {
   "cell_type": "code",
   "execution_count": null,
   "metadata": {
    "collapsed": false
   },
   "outputs": [],
   "source": [
    "import matplotlib.pyplot as plt\n",
    "from matplotlib.transforms import offset_copy\n",
    "import cartopy.crs as ccrs\n",
    "import cartopy.feature as cfeature\n",
    "\n",
    "# Create a new figure\n",
    "fig = plt.figure(figsize=(15, 12))\n",
    "\n",
    "# Add the map and set the extent\n",
    "ax = plt.axes(projection=ccrs.PlateCarree())\n",
    "ax.set_extent([-100.03, -111.03, 35, 43])\n",
    "\n",
    "# Retrieve the state boundaries using cFeature and add to plot\n",
    "states_provinces = cfeature.NaturalEarthFeature(\n",
    "    category='cultural',\n",
    "    name='admin_1_states_provinces_lines',\n",
    "    scale='50m',\n",
    "    facecolor='none')\n",
    "ax.add_feature(states_provinces, edgecolor='gray')\n",
    "\n",
    "# Contour temperature at each lat/long\n",
    "plt.contourf(lon_2d, lat_2d, temp_2d, 200, transform=ccrs.PlateCarree())\n",
    "#Plot a colorbar to show temperature and reduce the size of it\n",
    "plt.colorbar(fraction=0.032)\n",
    "\n",
    "# Make a title with the time value\n",
    "plt.title('Temperature forecast ' + '(' + u'\\u00b0' + 'F)' + ' for '  + str(time_val) + 'z', fontsize=20)\n",
    "# Plot markers for each lat/long to show grid points for 0.25 deg GFS\n",
    "for lon, lat  in lonlat_list:\n",
    "    plt.plot(lon, lat, marker='o', color='black', markersize=2,\n",
    "             alpha=0.3, transform=ccrs.Geodetic())"
   ]
  },
  {
   "cell_type": "code",
   "execution_count": null,
   "metadata": {
    "collapsed": true
   },
   "outputs": [],
   "source": []
  }
 ],
 "metadata": {
  "kernelspec": {
   "display_name": "Python 3.5",
   "language": "python",
   "name": "python3"
  },
  "language_info": {
   "codemirror_mode": {
    "name": "ipython",
    "version": 3
   },
   "file_extension": ".py",
   "mimetype": "text/x-python",
   "name": "python",
   "nbconvert_exporter": "python",
   "pygments_lexer": "ipython3",
   "version": "3.5.1"
  }
 },
 "nbformat": 4,
 "nbformat_minor": 0
}
