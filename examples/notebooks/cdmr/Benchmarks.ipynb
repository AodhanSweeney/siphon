{
 "metadata": {
  "name": "",
  "signature": "sha256:ebe3df16b29aaadc28ce95c8c4cdcc92aac907b71c90f41a106dad2d95e7ccc1"
 },
 "nbformat": 3,
 "nbformat_minor": 0,
 "worksheets": [
  {
   "cells": [
    {
     "cell_type": "code",
     "collapsed": false,
     "input": [
      "import netCDF4\n",
      "from pyudl.cdmr import Dataset\n",
      "from pyudl.tds import TDSCatalog\n",
      "\n",
      "tstvar = \"Geopotential_height_isobaric\""
     ],
     "language": "python",
     "metadata": {},
     "outputs": [],
     "prompt_number": 34
    },
    {
     "cell_type": "code",
     "collapsed": false,
     "input": [
      "cat = TDSCatalog('http://localhost:8080/thredds/catalog.xml?dataset=HRRR_nc3')\n",
      "url = cat.datasets.values()[0].accessUrls['CdmRemote']"
     ],
     "language": "python",
     "metadata": {},
     "outputs": [],
     "prompt_number": 55
    },
    {
     "cell_type": "code",
     "collapsed": false,
     "input": [
      "%%timeit -n 1 -r 1\n",
      "ds = Dataset(url)\n",
      "#lcc_info = ds.variables['LambertConformal_Projection']\n",
      "temp = ds.variables[tstvar]\n",
      "#x = ds.variables['x'][:] * 1000.\n",
      "#y = ds.variables['y'][:] * 1000.\n",
      "tempData = temp[0, :]"
     ],
     "language": "python",
     "metadata": {},
     "outputs": [
      {
       "output_type": "stream",
       "stream": "stdout",
       "text": [
        "1 loops, best of 1: 4.88 s per loop\n"
       ]
      }
     ],
     "prompt_number": 56
    },
    {
     "cell_type": "code",
     "collapsed": false,
     "input": [
      "%%timeit -n 1 -r 1\n",
      "ds = netCDF4.Dataset(cat.datasets.values()[0].accessUrls['OPENDAP'])\n",
      "#lcc_info = ds.variables['LambertConformal_Projection']\n",
      "temp = ds.variables[tstvar]\n",
      "#x = ds.variables['x'][:] * 1000.\n",
      "#y = ds.variables['y'][:] * 1000.\n",
      "tempData = temp[1, :]"
     ],
     "language": "python",
     "metadata": {},
     "outputs": [
      {
       "output_type": "stream",
       "stream": "stdout",
       "text": [
        "1 loops, best of 1: 8.9 s per loop\n"
       ]
      }
     ],
     "prompt_number": 57
    },
    {
     "cell_type": "code",
     "collapsed": false,
     "input": [
      "#%timeit -n 1 -r 1 ds = Dataset(url)"
     ],
     "language": "python",
     "metadata": {},
     "outputs": [],
     "prompt_number": 58
    },
    {
     "cell_type": "code",
     "collapsed": false,
     "input": [
      "#%timeit -n 1 -r 1 ds = netCDF4.Dataset(cat.datasets.values()[0].accessUrls['OPENDAP'])"
     ],
     "language": "python",
     "metadata": {},
     "outputs": [],
     "prompt_number": 59
    },
    {
     "cell_type": "code",
     "collapsed": false,
     "input": [
      "%%timeit -n 1 -r 1\n",
      "ds = netCDF4.Dataset(\"/Users/lesserwhirls/.unidata/tds/content/thredds/public/testdata/HRRR.nc\")\n",
      "#lcc_info = ds.variables['LambertConformal_Projection']\n",
      "temp = ds.variables[tstvar]\n",
      "#x = ds.variables['x'][:] * 1000.\n",
      "#y = ds.variables['y'][:] * 1000.\n",
      "tempData = temp[2, :]"
     ],
     "language": "python",
     "metadata": {},
     "outputs": [
      {
       "output_type": "stream",
       "stream": "stdout",
       "text": [
        "1 loops, best of 1: 922 ms per loop\n"
       ]
      }
     ],
     "prompt_number": 60
    },
    {
     "cell_type": "markdown",
     "metadata": {},
     "source": [
      "<BR>\n",
      "# netCDF-4\n",
      "<BR>"
     ]
    },
    {
     "cell_type": "code",
     "collapsed": false,
     "input": [
      "cat = TDSCatalog('http://localhost:8080/thredds/catalog.xml?dataset=HRRR_nc4')\n",
      "url = cat.datasets.values()[0].accessUrls['CdmRemote']"
     ],
     "language": "python",
     "metadata": {},
     "outputs": [],
     "prompt_number": 61
    },
    {
     "cell_type": "code",
     "collapsed": false,
     "input": [
      "%%timeit -n 1 -r 1\n",
      "ds = Dataset(url)\n",
      "#lcc_info = ds.variables['LambertConformal_Projection']\n",
      "temp = ds.variables[tstvar]\n",
      "#x = ds.variables['x'][:] * 1000.\n",
      "#y = ds.variables['y'][:] * 1000.\n",
      "tempData = temp[0, :]"
     ],
     "language": "python",
     "metadata": {},
     "outputs": [
      {
       "output_type": "stream",
       "stream": "stdout",
       "text": [
        "1 loops, best of 1: 7.39 s per loop\n"
       ]
      }
     ],
     "prompt_number": 62
    },
    {
     "cell_type": "code",
     "collapsed": false,
     "input": [
      "%%timeit -n 1 -r 1\n",
      "ds = netCDF4.Dataset(cat.datasets.values()[0].accessUrls['OPENDAP'])\n",
      "#lcc_info = ds.variables['LambertConformal_Projection']\n",
      "temp = ds.variables[tstvar]\n",
      "#x = ds.variables['x'][:] * 1000.\n",
      "#y = ds.variables['y'][:] * 1000.\n",
      "tempData = temp[1, :]"
     ],
     "language": "python",
     "metadata": {},
     "outputs": [
      {
       "output_type": "stream",
       "stream": "stdout",
       "text": [
        "1 loops, best of 1: 10.8 s per loop\n"
       ]
      }
     ],
     "prompt_number": 63
    },
    {
     "cell_type": "code",
     "collapsed": false,
     "input": [
      "%%timeit -n 1 -r 1\n",
      "ds = netCDF4.Dataset(\"/Users/lesserwhirls/.unidata/tds/content/thredds/public/testdata/HRRR.nc4\")\n",
      "#lcc_info = ds.variables['LambertConformal_Projection']\n",
      "temp = ds.variables[tstvar]\n",
      "#x = ds.variables['x'][:] * 1000.\n",
      "#y = ds.variables['y'][:] * 1000.\n",
      "tempData = temp[2, :]"
     ],
     "language": "python",
     "metadata": {},
     "outputs": [
      {
       "output_type": "stream",
       "stream": "stdout",
       "text": [
        "1 loops, best of 1: 3.28 s per loop\n"
       ]
      }
     ],
     "prompt_number": 64
    }
   ],
   "metadata": {}
  }
 ]
}