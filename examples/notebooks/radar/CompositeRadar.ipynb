{
 "metadata": {
  "name": ""
 },
 "nbformat": 3,
 "nbformat_minor": 0,
 "worksheets": [
  {
   "cells": [
    {
     "cell_type": "code",
     "collapsed": false,
     "input": [
      "import datetime as dt\n",
      "import matplotlib.pyplot as plt\n",
      "import numpy as np\n",
      "import matplotlib as mpl\n",
      "import pytz\n",
      "\n",
      "from mpl_toolkits.basemap import Basemap\n",
      "from pydap.client import open_url\n",
      "from pudl.tds import TDSCatalog\n",
      "\n",
      "def radar_colormap():\n",
      "    nws_reflectivity_colors = [\n",
      "    \"#646464\", # ND\n",
      "    \"#ccffff\", # -30\n",
      "    \"#cc99cc\", # -25\n",
      "    \"#996699\", # -20\n",
      "    \"#663366\", # -15\n",
      "    \"#cccc99\", # -10\n",
      "    \"#999966\", # -5\n",
      "    \"#646464\", # 0\n",
      "    \"#04e9e7\", # 5\n",
      "    \"#019ff4\", # 10\n",
      "    \"#0300f4\", # 15\n",
      "    \"#02fd02\", # 20\n",
      "    \"#01c501\", # 25\n",
      "    \"#008e00\", # 30\n",
      "    \"#fdf802\", # 35\n",
      "    \"#e5bc00\", # 40\n",
      "    \"#fd9500\", # 45\n",
      "    \"#fd0000\", # 50\n",
      "    \"#d40000\", # 55\n",
      "    \"#bc0000\", # 60\n",
      "    \"#f800fd\", # 65\n",
      "    \"#9854c6\", # 70\n",
      "    \"#fdfdfd\" # 75\n",
      "    ]\n",
      "\n",
      "    cmap = mpl.colors.ListedColormap(nws_reflectivity_colors)\n",
      "\n",
      "    return cmap"
     ],
     "language": "python",
     "metadata": {},
     "outputs": [],
     "prompt_number": 1
    },
    {
     "cell_type": "code",
     "collapsed": false,
     "input": [
      "today = dt.datetime.utcnow() \n",
      "url = \"http://atm.ucar.edu/thredds/catalog/nexrad/composite/gini/n0r/1km/{}/catalog.xml\".format(today.strftime(\"%Y%m%d\"))\n",
      "cat = TDSCatalog(url)\n",
      "names = cat.datasets.keys()\n",
      "names.sort()\n",
      "latest = names[-1]\n",
      "latestDs = cat.datasets[latest]"
     ],
     "language": "python",
     "metadata": {},
     "outputs": [],
     "prompt_number": 2
    },
    {
     "cell_type": "code",
     "collapsed": false,
     "input": [
      "dataset = open_url(latestDs.accessUrls['OPENDAP'])"
     ],
     "language": "python",
     "metadata": {},
     "outputs": [],
     "prompt_number": 3
    },
    {
     "cell_type": "code",
     "collapsed": false,
     "input": [
      "##################\n",
      "# Projection fun #\n",
      "##################\n",
      "\n",
      "# get basic info from the file regarding projection attributes\n",
      "# see the following for more info on projections as described here:\n",
      "#   http://www.nco.ncep.noaa.gov/pmb/docs/on388/tableb.html#GRID218\n",
      "#   http://www.wmo.int/pages/prog/www/WDM/Guides/Guide-binary-2.html [see LAMBERT CONFORMAL SECANT OR TANGENT CONE GRIDS]\n",
      "#   http://www.unidata.ucar.edu/mailing_lists/archives/netcdf-java/2006/msg00006.html [starndard parallels in CDM]\n",
      "proj_attributes = dataset['LambertConformal'].attributes\n",
      "rsphere = proj_attributes['earth_radius']\n",
      "\n",
      "# lat_0\t: center of desired map domain (in degrees) [Basemap]\n",
      "# CDM : 'latitude_of_projection_origin'\n",
      "# NCO : where Dx and Dy are defined\n",
      "# :\n",
      "lat_0 = proj_attributes['latitude_of_projection_origin']\n",
      "\n",
      "# lon_0\t: center of desired map domain (in degrees) [Basemap]\n",
      "# CDM : 'longitude_of_central_meridian'\n",
      "# NCO : Lov\n",
      "#\n",
      "# Lov - The orientation of the grid; i.e., the east longitude value\n",
      "# of the meridian which is parallel to the y-axis (or columns of the\n",
      "#  grid) along which latitude increases as the y-coordinate increases.\n",
      "# (Note: The orientation longitude may, or may not, appear within a\n",
      "# particular grid.)\n",
      "#\n",
      "lon_0 = proj_attributes['longitude_of_central_meridian'] # Lov\n",
      "\n",
      "# lat_1, lat_2 : 1st and second parallels [Basemap]\n",
      "# CDM : 'standard_parallel' - this attr contains both 1st and 2nd\n",
      "# NCO : ??? Not sure where this shows up on the nco page\n",
      "lat_1 = proj_attributes['standard_parallel']\n",
      "print lat_0, lon_0, lat_1, rsphere\n",
      "\n",
      "# hardcoded from catalog metadata - will add metadata into catalog class\n",
      "# to grab this programatically\n",
      "llcrnrlon = -120.02283\n",
      "llcrnrlat = 23.0132\n",
      "urcrnrlon = -63.5105\n",
      "urcrnrlat = 47.30635"
     ],
     "language": "python",
     "metadata": {},
     "outputs": [
      {
       "output_type": "stream",
       "stream": "stdout",
       "text": [
        "40.0 -100.0 40.0 6371229.0\n"
       ]
      }
     ],
     "prompt_number": 4
    },
    {
     "cell_type": "code",
     "collapsed": false,
     "input": [
      "xstride = 10\n",
      "ystride = 10\n",
      "\n",
      "# download x and y coords and convert them from\n",
      "# km to m, offset for use in basemap\n",
      "x = dataset['x'][:] * 1000.\n",
      "y = dataset['y'][:] * 1000;\n",
      "\n",
      "width = x.max() - x.min()\n",
      "height = y.max() - y.min()\n",
      "\n",
      "data = dataset[\"Reflectivity\"][0,0::ystride,0::xstride]\n",
      "x = x[0::xstride]\n",
      "y = y[0::ystride]\n",
      "data = np.squeeze(data)"
     ],
     "language": "python",
     "metadata": {},
     "outputs": [],
     "prompt_number": 5
    },
    {
     "cell_type": "code",
     "collapsed": false,
     "input": [
      "fig = plt.figure(figsize=(8,11))\n",
      "ax = fig.add_subplot(1,1,1)\n",
      "\n",
      "m = Basemap(projection='lcc', lat_0 = lat_0, lon_0 = lon_0, lat_1 = lat_1,\n",
      "              llcrnrlon = llcrnrlon, llcrnrlat = llcrnrlat,\n",
      "              urcrnrlat = urcrnrlat, urcrnrlon = urcrnrlon,\n",
      "              area_thresh = 1000., rsphere = rsphere, resolution='i')\n",
      "\n"
     ],
     "language": "python",
     "metadata": {},
     "outputs": [],
     "prompt_number": 6
    },
    {
     "cell_type": "code",
     "collapsed": false,
     "input": [
      "x = (m.llcrnrx - x.min()) + x\n",
      "y = (m.llcrnry - y.min()) + y\n",
      "time = dataset[\"time\"][:][0] / 1000.\n",
      "title = dt.datetime.fromtimestamp(time, pytz.utc).isoformat()\n",
      "cmap = radar_colormap()\n",
      "norm = mpl.colors.Normalize(vmin=-35, vmax=80)\n",
      "ax.set_title(title)\n",
      "#cax = m.pcolormesh(x, y, data, cmap=cmap, norm=norm)\n",
      "cax = m.imshow(data, extent = (x.min(), x.max(), y.min(), y.max()), cmap=cmap, norm=norm, origin=\"upper\")\n",
      "m.drawcoastlines()\n",
      "m.drawstates()\n",
      "m.drawcountries()\n",
      "cbar = m.colorbar(cax)\n",
      "plt.show()"
     ],
     "language": "python",
     "metadata": {},
     "outputs": [],
     "prompt_number": 7
    },
    {
     "cell_type": "code",
     "collapsed": false,
     "input": [],
     "language": "python",
     "metadata": {},
     "outputs": [],
     "prompt_number": 7
    }
   ],
   "metadata": {}
  }
 ]
}
